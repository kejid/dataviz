{
 "cells": [
  {
   "cell_type": "code",
   "execution_count": 9,
   "metadata": {},
   "outputs": [],
   "source": [
    "import pandas as pd\n",
    "import altair as alt\n",
    "from IPython.display import Image\n",
    "from IPython.core.display import HTML "
   ]
  },
  {
   "cell_type": "markdown",
   "metadata": {},
   "source": [
    "# Instructions\n",
    "Any set of data can be graphed many ways and varying views allow us to see different things. Let's look at a specific instance of numerous graphs plotting the same data.\n",
    "\n",
    "Let's imagine you are visualizing data from your employee survey and want to show how employees responded this year compared to last year to the retention item \"I plan to be working here in one year.\" Below, you'll see four different views of the exact same data. Spend some time examining each, then complete the steps that follow."
   ]
  },
  {
   "cell_type": "code",
   "execution_count": 3,
   "metadata": {},
   "outputs": [
    {
     "data": {
      "text/html": [
       "<img src=\"https://swd-community-media.s3.amazonaws.com/media/django-summernote/2020-05-12/228e5f0a-bf7e-4732-9bdb-51b823043770.jpg\"/>"
      ],
      "text/plain": [
       "<IPython.core.display.Image object>"
      ]
     },
     "execution_count": 3,
     "metadata": {},
     "output_type": "execute_result"
    }
   ],
   "source": [
    "Image(url= \"https://swd-community-media.s3.amazonaws.com/media/django-summernote/2020-05-12/228e5f0a-bf7e-4732-9bdb-51b823043770.jpg\")"
   ]
  },
  {
   "cell_type": "markdown",
   "metadata": {},
   "source": [
    "# STEP 1: \n",
    "##### List a pro (something you like or that works well) and a con (an aspect that is not ideal) for each of the four options.\n",
    "* Option A \n",
    " * Pie Charts is difficult to compare with each other\n",
    "* Option B \n",
    " * Easy to compare changes\n",
    "* Option C\n",
    " * Good for comparing united **Strongly Disagree + Disagree**, and **Strongly Agree + Agree**\n",
    " * But it's not aligned on left side, so if we go with this option, this should be fixed\n",
    "* Option D\n",
    " * Nice option, to highlight slope changes on some positions\n",
    "\n",
    "# STEP 2: \n",
    "* Assume you are tasked with communicating this data. Which would you choose? Title your solution with your preferred graph type (from the provided choices or beyond)."
   ]
  },
  {
   "cell_type": "code",
   "execution_count": 67,
   "metadata": {},
   "outputs": [],
   "source": [
    "df = pd.read_excel('Data/2.12 EXERCISE.xlsx', index_col=None, skiprows=7, nrows= 4, usecols = 'B:D')  \n",
    "# df['slope'] = df['THIS YEAR'] - df['LAST YEAR']\n",
    "# df = pd.melt(df, id_vars=['RESPONSE'], value_vars=['LAST YEAR', 'THIS YEAR', 'slope'])\n",
    "df = pd.melt(df, id_vars=['RESPONSE'], value_vars=['LAST YEAR', 'THIS YEAR'])"
   ]
  },
  {
   "cell_type": "code",
   "execution_count": 68,
   "metadata": {},
   "outputs": [
    {
     "data": {
      "text/html": [
       "<div>\n",
       "<style scoped>\n",
       "    .dataframe tbody tr th:only-of-type {\n",
       "        vertical-align: middle;\n",
       "    }\n",
       "\n",
       "    .dataframe tbody tr th {\n",
       "        vertical-align: top;\n",
       "    }\n",
       "\n",
       "    .dataframe thead th {\n",
       "        text-align: right;\n",
       "    }\n",
       "</style>\n",
       "<table border=\"1\" class=\"dataframe\">\n",
       "  <thead>\n",
       "    <tr style=\"text-align: right;\">\n",
       "      <th></th>\n",
       "      <th>RESPONSE</th>\n",
       "      <th>variable</th>\n",
       "      <th>value</th>\n",
       "    </tr>\n",
       "  </thead>\n",
       "  <tbody>\n",
       "    <tr>\n",
       "      <th>0</th>\n",
       "      <td>STRONGLY AGREE</td>\n",
       "      <td>LAST YEAR</td>\n",
       "      <td>0.26</td>\n",
       "    </tr>\n",
       "    <tr>\n",
       "      <th>1</th>\n",
       "      <td>AGREE</td>\n",
       "      <td>LAST YEAR</td>\n",
       "      <td>0.50</td>\n",
       "    </tr>\n",
       "    <tr>\n",
       "      <th>2</th>\n",
       "      <td>DISAGREE</td>\n",
       "      <td>LAST YEAR</td>\n",
       "      <td>0.22</td>\n",
       "    </tr>\n",
       "    <tr>\n",
       "      <th>3</th>\n",
       "      <td>STRONGLY DISAGREE</td>\n",
       "      <td>LAST YEAR</td>\n",
       "      <td>0.02</td>\n",
       "    </tr>\n",
       "    <tr>\n",
       "      <th>4</th>\n",
       "      <td>STRONGLY AGREE</td>\n",
       "      <td>THIS YEAR</td>\n",
       "      <td>0.33</td>\n",
       "    </tr>\n",
       "    <tr>\n",
       "      <th>5</th>\n",
       "      <td>AGREE</td>\n",
       "      <td>THIS YEAR</td>\n",
       "      <td>0.51</td>\n",
       "    </tr>\n",
       "    <tr>\n",
       "      <th>6</th>\n",
       "      <td>DISAGREE</td>\n",
       "      <td>THIS YEAR</td>\n",
       "      <td>0.14</td>\n",
       "    </tr>\n",
       "    <tr>\n",
       "      <th>7</th>\n",
       "      <td>STRONGLY DISAGREE</td>\n",
       "      <td>THIS YEAR</td>\n",
       "      <td>0.02</td>\n",
       "    </tr>\n",
       "  </tbody>\n",
       "</table>\n",
       "</div>"
      ],
      "text/plain": [
       "            RESPONSE   variable  value\n",
       "0     STRONGLY AGREE  LAST YEAR   0.26\n",
       "1              AGREE  LAST YEAR   0.50\n",
       "2           DISAGREE  LAST YEAR   0.22\n",
       "3  STRONGLY DISAGREE  LAST YEAR   0.02\n",
       "4     STRONGLY AGREE  THIS YEAR   0.33\n",
       "5              AGREE  THIS YEAR   0.51\n",
       "6           DISAGREE  THIS YEAR   0.14\n",
       "7  STRONGLY DISAGREE  THIS YEAR   0.02"
      ]
     },
     "execution_count": 68,
     "metadata": {},
     "output_type": "execute_result"
    }
   ],
   "source": [
    "df"
   ]
  },
  {
   "cell_type": "code",
   "execution_count": 69,
   "metadata": {},
   "outputs": [
    {
     "data": {
      "text/plain": [
       "array(['STRONGLY AGREE', 'AGREE', 'DISAGREE', 'STRONGLY DISAGREE'],\n",
       "      dtype=object)"
      ]
     },
     "execution_count": 69,
     "metadata": {},
     "output_type": "execute_result"
    }
   ],
   "source": [
    "df['RESPONSE'].unique()"
   ]
  },
  {
   "cell_type": "code",
   "execution_count": 70,
   "metadata": {},
   "outputs": [
    {
     "data": {
      "text/html": [
       "\n",
       "<div id=\"altair-viz-020ce19439e94962b6f5e05ff5a439d1\"></div>\n",
       "<script type=\"text/javascript\">\n",
       "  (function(spec, embedOpt){\n",
       "    let outputDiv = document.currentScript.previousElementSibling;\n",
       "    if (outputDiv.id !== \"altair-viz-020ce19439e94962b6f5e05ff5a439d1\") {\n",
       "      outputDiv = document.getElementById(\"altair-viz-020ce19439e94962b6f5e05ff5a439d1\");\n",
       "    }\n",
       "    const paths = {\n",
       "      \"vega\": \"https://cdn.jsdelivr.net/npm//vega@5?noext\",\n",
       "      \"vega-lib\": \"https://cdn.jsdelivr.net/npm//vega-lib?noext\",\n",
       "      \"vega-lite\": \"https://cdn.jsdelivr.net/npm//vega-lite@4.8.1?noext\",\n",
       "      \"vega-embed\": \"https://cdn.jsdelivr.net/npm//vega-embed@6?noext\",\n",
       "    };\n",
       "\n",
       "    function loadScript(lib) {\n",
       "      return new Promise(function(resolve, reject) {\n",
       "        var s = document.createElement('script');\n",
       "        s.src = paths[lib];\n",
       "        s.async = true;\n",
       "        s.onload = () => resolve(paths[lib]);\n",
       "        s.onerror = () => reject(`Error loading script: ${paths[lib]}`);\n",
       "        document.getElementsByTagName(\"head\")[0].appendChild(s);\n",
       "      });\n",
       "    }\n",
       "\n",
       "    function showError(err) {\n",
       "      outputDiv.innerHTML = `<div class=\"error\" style=\"color:red;\">${err}</div>`;\n",
       "      throw err;\n",
       "    }\n",
       "\n",
       "    function displayChart(vegaEmbed) {\n",
       "      vegaEmbed(outputDiv, spec, embedOpt)\n",
       "        .catch(err => showError(`Javascript Error: ${err.message}<br>This usually means there's a typo in your chart specification. See the javascript console for the full traceback.`));\n",
       "    }\n",
       "\n",
       "    if(typeof define === \"function\" && define.amd) {\n",
       "      requirejs.config({paths});\n",
       "      require([\"vega-embed\"], displayChart, err => showError(`Error loading script: ${err.message}`));\n",
       "    } else if (typeof vegaEmbed === \"function\") {\n",
       "      displayChart(vegaEmbed);\n",
       "    } else {\n",
       "      loadScript(\"vega\")\n",
       "        .then(() => loadScript(\"vega-lite\"))\n",
       "        .then(() => loadScript(\"vega-embed\"))\n",
       "        .catch(showError)\n",
       "        .then(() => displayChart(vegaEmbed));\n",
       "    }\n",
       "  })({\"config\": {\"view\": {\"continuousWidth\": 400, \"continuousHeight\": 300}}, \"data\": {\"name\": \"data-b6b93c3e80a02f56fc71571ef1c11a41\"}, \"mark\": \"line\", \"encoding\": {\"color\": {\"condition\": {\"type\": \"nominal\", \"field\": \"RESPONSE\", \"test\": \"(datum.RESPONSE === 'AGREE')\"}, \"value\": \"lightgray\"}, \"x\": {\"type\": \"ordinal\", \"field\": \"variable\"}, \"y\": {\"type\": \"quantitative\", \"field\": \"value\"}}, \"height\": 300, \"width\": 300, \"$schema\": \"https://vega.github.io/schema/vega-lite/v4.8.1.json\", \"datasets\": {\"data-b6b93c3e80a02f56fc71571ef1c11a41\": [{\"RESPONSE\": \"STRONGLY AGREE\", \"variable\": \"LAST YEAR\", \"value\": 0.26}, {\"RESPONSE\": \"AGREE\", \"variable\": \"LAST YEAR\", \"value\": 0.5}, {\"RESPONSE\": \"DISAGREE\", \"variable\": \"LAST YEAR\", \"value\": 0.22}, {\"RESPONSE\": \"STRONGLY DISAGREE\", \"variable\": \"LAST YEAR\", \"value\": 0.02}, {\"RESPONSE\": \"STRONGLY AGREE\", \"variable\": \"THIS YEAR\", \"value\": 0.33}, {\"RESPONSE\": \"AGREE\", \"variable\": \"THIS YEAR\", \"value\": 0.51}, {\"RESPONSE\": \"DISAGREE\", \"variable\": \"THIS YEAR\", \"value\": 0.14}, {\"RESPONSE\": \"STRONGLY DISAGREE\", \"variable\": \"THIS YEAR\", \"value\": 0.02}]}}, {\"mode\": \"vega-lite\"});\n",
       "</script>"
      ],
      "text/plain": [
       "alt.Chart(...)"
      ]
     },
     "execution_count": 70,
     "metadata": {},
     "output_type": "execute_result"
    }
   ],
   "source": [
    "alt.Chart(df).mark_line().encode(\n",
    "    x='variable:O',\n",
    "    y='value:Q',\n",
    "    color=alt.condition(alt.datum.RESPONSE == 'AGREE', 'RESPONSE', alt.value('lightgray'))\n",
    ").properties(\n",
    "    width=300,\n",
    "    height=300\n",
    ")"
   ]
  },
  {
   "cell_type": "code",
   "execution_count": null,
   "metadata": {},
   "outputs": [],
   "source": []
  }
 ],
 "metadata": {
  "kernelspec": {
   "display_name": "Python 3",
   "language": "python",
   "name": "python3"
  },
  "language_info": {
   "codemirror_mode": {
    "name": "ipython",
    "version": 3
   },
   "file_extension": ".py",
   "mimetype": "text/x-python",
   "name": "python",
   "nbconvert_exporter": "python",
   "pygments_lexer": "ipython3",
   "version": "3.7.6"
  }
 },
 "nbformat": 4,
 "nbformat_minor": 4
}
